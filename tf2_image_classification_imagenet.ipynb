{
  "nbformat": 4,
  "nbformat_minor": 0,
  "metadata": {
    "colab": {
      "name": "tf2_image_classification_imagenet.ipynb",
      "provenance": [],
      "authorship_tag": "ABX9TyM16jfQIApN+VSw5Tzr/g9Z",
      "include_colab_link": true
    },
    "kernelspec": {
      "name": "python3",
      "display_name": "Python 3"
    },
    "language_info": {
      "name": "python"
    }
  },
  "cells": [
    {
      "cell_type": "markdown",
      "metadata": {
        "id": "view-in-github",
        "colab_type": "text"
      },
      "source": [
        "<a href=\"https://colab.research.google.com/github/Ilicio/TensorFlow/blob/main/tf2_image_classification_imagenet.ipynb\" target=\"_parent\"><img src=\"https://colab.research.google.com/assets/colab-badge.svg\" alt=\"Open In Colab\"/></a>"
      ]
    },
    {
      "cell_type": "code",
      "execution_count": null,
      "metadata": {
        "id": "IXi19ajSTSYe"
      },
      "outputs": [],
      "source": [
        "import tensorflow as tf\n",
        "import numpy as np\n",
        "import matplotlib.pyplot as plt\n",
        "import explainable_ai_sdk\n",
        "\n",
        "from explainable_ai_sdk.metadata.tf.v2 import SaveModelMetadataBuilder\n",
        "from PIL import image"
      ]
    },
    {
      "cell_type": "markdown",
      "source": [
        "# Model trained on ImageNet"
      ],
      "metadata": {
        "id": "leIgL5E8Ut6Q"
      }
    },
    {
      "cell_type": "code",
      "source": [
        "img_net_dir = 'imagenet_model'\n",
        "imgnet_builder = SaveModelMetadataBuilder(img_net_dir)"
      ],
      "metadata": {
        "id": "FK22kRVQU0vP"
      },
      "execution_count": null,
      "outputs": []
    },
    {
      "cell_type": "markdown",
      "source": [
        "# Generate explanation metadata"
      ],
      "metadata": {
        "id": "tq398neLVE75"
      }
    },
    {
      "cell_type": "markdown",
      "source": [
        "Using the Explainable AI SDK, we'll create a reference to our saved model by pointing to the SaveModel directory within our notebooks instance"
      ],
      "metadata": {
        "id": "VW_3C4toVOKH"
      }
    },
    {
      "cell_type": "code",
      "source": [
        "imgnet_builder.set_image_metadata('input_1')\n",
        "imgnet_builder.get_metadata()\n",
        "imgnet_builder.save_metadata(img_net_dir)"
      ],
      "metadata": {
        "id": "o1HS0vfFVK7o"
      },
      "execution_count": null,
      "outputs": []
    },
    {
      "cell_type": "markdown",
      "source": [
        "# Preview a test image"
      ],
      "metadata": {
        "id": "oT0qtd4PV4Jc"
      }
    },
    {
      "cell_type": "code",
      "source": [
        "im = Image.open('jellyfish.jpg').convert('RGB')\n",
        "im = im.resize((224,224))\n",
        "imarr = np.array(im)\n",
        "plt.imshow(im)"
      ],
      "metadata": {
        "id": "mkURnb7dV8aT"
      },
      "execution_count": null,
      "outputs": []
    },
    {
      "cell_type": "markdown",
      "source": [
        "# Get a prediction and explanation"
      ],
      "metadata": {
        "id": "5GoUNu9-WX0x"
      }
    },
    {
      "cell_type": "code",
      "source": [
        "lm = explainable_ai_sdk.load_model_from_local_path(\n",
        "    img_net_dir,\n",
        "    explainable_ai_sdk.XraiConfig()\n",
        ")\n",
        "response = lm.explain([{'input_1': imarr / 255}])\n",
        "response[0].visualize_attributions()\n",
        "\n",
        "# Get the label\n",
        "labels_path = tf.keras.utils.get_file('ImageNetLabels.txt','https://storage.googleapis.com/download.tensorflow.org/data/ImageNetLabels.txt')\n",
        "imagenet_labels = np.array(open(labels_path).read().splitlines())\n",
        "print('Predicted label:', imagenet_labels[108])"
      ],
      "metadata": {
        "id": "-h2wMu3CWcKg"
      },
      "execution_count": null,
      "outputs": []
    },
    {
      "cell_type": "code",
      "source": [
        "# Show a legend of pixel importance\n",
        "im = Image.open('key.png')\n",
        "plt.imshow(im)"
      ],
      "metadata": {
        "id": "a4Tz7M3SXtqv"
      },
      "execution_count": null,
      "outputs": []
    },
    {
      "cell_type": "markdown",
      "source": [
        "# Chest x-ray model"
      ],
      "metadata": {
        "id": "ehWtceguYBA2"
      }
    },
    {
      "cell_type": "code",
      "source": [
        "xray_model_dir = 'chest_xray_model'\n",
        "builder = SaveModelMetadataBuilder(xray_model_dir)\n",
        "builder.set_image_metadata('vgg16_input', input_baselines=[[0]])"
      ],
      "metadata": {
        "id": "4o8fVZ7yYDlY"
      },
      "execution_count": null,
      "outputs": []
    },
    {
      "cell_type": "code",
      "source": [
        "builder.save_metadata(xray_model_dir)"
      ],
      "metadata": {
        "id": "B2QXOXnRYiaB"
      },
      "execution_count": null,
      "outputs": []
    },
    {
      "cell_type": "code",
      "source": [
        "builder.get_metadata()"
      ],
      "metadata": {
        "id": "3ow26xIYYndk"
      },
      "execution_count": null,
      "outputs": []
    },
    {
      "cell_type": "markdown",
      "source": [
        "# Preview a test image"
      ],
      "metadata": {
        "id": "lAyfGs86YrXy"
      }
    },
    {
      "cell_type": "markdown",
      "source": [
        "The test image we'll be sending toour model contains Cardiomegaly"
      ],
      "metadata": {
        "id": "mkkPft5nYvwp"
      }
    },
    {
      "cell_type": "code",
      "source": [
        "im = Image.open('cardio-test.png').convert('RGB')\n",
        "im = im.resize((224,224))\n",
        "imarr = np.array(im)\n",
        "plt.imshow(im)"
      ],
      "metadata": {
        "id": "66Fev3gNY2nP"
      },
      "execution_count": null,
      "outputs": []
    },
    {
      "cell_type": "markdown",
      "source": [
        "# Get a prediction and explanation"
      ],
      "metadata": {
        "id": "cFoZZ-IBZHoK"
      }
    },
    {
      "cell_type": "code",
      "source": [
        "lm = explainable_ai_sdk.load_model_from_local_path(\n",
        "    xray_model_dir,\n",
        "    explainable_ai_sdk.XraiConfig(step_count=10)\n",
        ")\n",
        "response = lm.explain([{'vgg16_input': imarr / 255}])\n",
        "response[0].visualize_attributions()"
      ],
      "metadata": {
        "id": "uv0acPwQZLbQ"
      },
      "execution_count": null,
      "outputs": []
    },
    {
      "cell_type": "markdown",
      "source": [
        "# Deploy the model to AI Platform with explanations"
      ],
      "metadata": {
        "id": "DfmtZf4DZq6R"
      }
    },
    {
      "cell_type": "code",
      "source": [
        "!gsutil -m cp -r ./chest_xray_model gs://chest_xray_model/"
      ],
      "metadata": {
        "id": "SREXHDPRZwo7"
      },
      "execution_count": null,
      "outputs": []
    },
    {
      "cell_type": "code",
      "source": [
        "!gcloud beta ai-platform versions create 'v1' \\\n",
        "--model 'chest_xray' \\\n",
        "--origin 'gs://chest_xray_model' \\\n",
        "--runtime-version 2.1 \\\n",
        "--framework TENSORFLOW \\\n",
        "--python-version 3.7 \\\n",
        "---machine-type n1-standard-4 \\\n",
        "--explanation-method integrated-gradients \\\n",
        "--num-integral-steps 25"
      ],
      "metadata": {
        "id": "qVwTzNbZZ2zv"
      },
      "execution_count": null,
      "outputs": []
    }
  ]
}